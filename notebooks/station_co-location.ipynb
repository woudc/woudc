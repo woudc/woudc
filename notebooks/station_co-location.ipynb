{
 "cells": [
  {
   "cell_type": "code",
   "execution_count": 25,
   "metadata": {},
   "outputs": [],
   "source": [
    "import unicodecsv as csv\n",
    "from io import BytesIO\n",
    "import sys\n",
    "from urllib.request import urlopen"
   ]
  },
  {
   "cell_type": "code",
   "execution_count": 26,
   "metadata": {},
   "outputs": [],
   "source": [
    "datasets = [\n",
    "    'totalozone',\n",
    "    'ozonesonde'\n",
    "]\n",
    "station_lookups = {}"
   ]
  },
  {
   "cell_type": "code",
   "execution_count": 27,
   "metadata": {},
   "outputs": [],
   "source": [
    "for dataset in datasets:\n",
    "    station_lookups[dataset] = []\n",
    "    url = 'https://geo.woudc.org/ows?service=WFS&version=1.1.0&request=GetFeature&outputformat=CSV&typename={}&filter=<Filter><And><PropertyIsEqualTo><PropertyName>latest_observation</PropertyName><Literal>1</Literal></PropertyIsEqualTo><PropertyIsNotEqualTo><PropertyName>platform_type</PropertyName><Literal></Literal></PropertyIsNotEqualTo></And></Filter>&propertyname=gaw_id'.format(dataset)\n",
    "    data = urlopen(url).read()\n",
    "    #print(data)\n",
    "    rows = csv.DictReader(BytesIO(data))\n",
    "\n",
    "    for row in rows:\n",
    "        station_lookups[dataset].append(row['gaw_id'])"
   ]
  },
  {
   "cell_type": "code",
   "execution_count": 28,
   "metadata": {},
   "outputs": [],
   "source": [
    "station_lookups = set([i for i in station_lookups['totalozone'] for j in station_lookups['ozonesonde'] if i==j and i != ''])"
   ]
  },
  {
   "cell_type": "code",
   "execution_count": 29,
   "metadata": {},
   "outputs": [],
   "source": [
    "url = 'https://geo.woudc.org/ows?service=WFS&version=1.1.0&request=GetFeature&typename=stations&outputformat=CSV'\n",
    "data = urlopen(url).read()\n",
    "rows = csv.DictReader(BytesIO(data))"
   ]
  },
  {
   "cell_type": "code",
   "execution_count": 31,
   "metadata": {},
   "outputs": [
    {
     "name": "stdout",
     "output_type": "stream",
     "text": [
      "Y,X,date_from,date_to,gaw_id,platform_id,platform_name,acronym,platform_type,country,wmo_region,contributor_name,revision_date,country_code,elevation\r\n",
      "-21.0796,55.3841,1993/08/06 00:00:00+00,2018/12/01 00:00:00+00,RUN,436,La Réunion,CNRS,STN,France,III,National Centre for Scientific Research - France,2019/01/21 16:56:01+00,FRA,2160\r\n",
      "71.323013305700002,-156.611465454099999,1973/07/29 00:00:00+00,2018/07/02 00:00:00+00,BRW,199,Barrow (AK),NOAA-CMDL,STN,United States,IV,NOAA - Climate Monitoring and Diagnostics Laboratory,2018/04/24 12:51:47+00,USA,11\r\n",
      "-14.247474670400003,-170.564514160199991,1975/12/18 00:00:00+00,2017/12/27 16:18:21+00,SMO,191,Samoa (Cape Matatula),NOAA-CMDL,STN,American Samoa,V,NOAA - Climate Monitoring and Diagnostics Laboratory,2014/10/02 19:13:31+00,ASM,77\r\n",
      "64.819999694800003,-147.869995117200006,1964/11/10 23:00:00+00,2018/06/01 00:00:00+00,FBK,105,Fairbanks (AK),NOAA-CMDL,STN,United States,IV,NOAA - Climate Monitoring and Diagnostics Laboratory,2018/05/04 13:53:50+00,USA,138\r\n",
      "5.8099999428,-55.209999084499998,1999/03/15 00:00:00+00,2018/04/17 14:07:50+00,PMO,435,Paramaribo,KNMI,STN,Suriname,III,National  Meteorological Institute of the Netherlands,2018/04/24 12:51:59+00,SUR,23\r\n",
      "37.939998626700003,-75.459999084499998,1970/05/06 12:00:00+00,2016/07/19 17:02:00+00,WAI,107,Wallops Island (VA),NASA-WFF,STN,United States,IV,NASA - Wallops Island Flight Facility,2017/10/19 13:56:36+00,USA,13\r\n",
      "-89.996948242200006,-24.7999992371,2012/11/01 00:00:00+00,2016/12/31 00:00:00+00,SPO,111,South Pole,MSC,STN,Antarctica,the Antarctic,Meteorological Service of Canada (Atmospheric Environment Service),2018/08/21 18:20:17+00,ATA,2841\r\n",
      "37.939998626700003,-75.459999084499998,1968/09/16 18:12:00+00,1994/07/06 20:57:00+00,WAI,107,Wallops Island (VA),NASA-GSFC,STN,United States,IV,NASA Goddard Space Flight Center,2018/04/24 12:51:58+00,USA,13\r\n",
      "43.9166679382,5.75,1992/09/01 00:00:00+00,2018/12/01 00:00:00+00,OHP,040,Haute Provence,CNRS,STN,France,VI,National Centre for Scientific Research - France,2019/01/21 16:39:27+00,FRA,580\r\n",
      "52.216667175300003,14.1166667938,1975/01/08 11:00:00+00,2014/08/13 12:00:00+00,LIN,174,Lindenberg,DWD-MOL,STN,Germany,VI,German Weather Service - Meteorological Observatory at Lindenberg,2014/10/02 19:50:30+00,DEU,112\r\n",
      "-64.240058898900003,-56.624778747599997,1987/08/12 00:00:00+00,2018/12/01 00:00:00+00,MBI,233,Marambio,SMNA,STN,Antarctica,the Antarctic,National Meteorological Service of Argentina,2018/04/24 12:51:57+00,ATA,198\r\n",
      "60.13333511350001,-1.1833332777,1952/06/01 00:00:00+00,2019/02/01 00:00:00+00,SIS,043,Lerwick,UKMO,STN,United Kingdom,VI,UK Meteorological Office,2019/02/11 17:25:19+00,GBR,84\r\n",
      "28.472530365,-16.2473602295,1996/01/03 10:33:00+00,2019/03/01 00:00:00+00,SCO,401,Santa Cruz (Tenerife),AEMET,STN,Spain,VI,National Institute of Meteorology of Spain,2018/05/04 13:54:40+00,ESP,52\r\n",
      "50.797901153600002,4.3587598801,1952/06/01 00:00:00+00,2019/02/28 07:44:14+00,RMI,053,Uccle,RMIB,STN,Belgium,VI,Royal Meteorological Institute of Belgium,2019/02/11 16:13:52+00,BEL,100\r\n",
      "74.716667175300003,-94.983329772900007,1957/07/07 00:00:00+00,2018/06/20 23:18:00+00,RSL,024,Resolute,MSC,STN,Canada,IV,Meteorological Service of Canada (Atmospheric Environment Service),2018/06/05 17:11:36+00,CAN,64\r\n",
      "37.1040000916,-6.7342000008,1976/01/13 00:00:00+00,2015/01/01 00:00:00+00,ARN,213,El Arenosillo,INTA,STN,Spain,VI,National Institute of Aerospace Technology of Spain,2018/04/24 12:51:40+00,ESP,41\r\n",
      "65.116668701199998,-147.483306884799987,1976/09/28 19:47:00+00,1979/07/17 16:11:00+00,POK,217,Poker Flat (AK),NASA-GSFC,STN,United States,IV,NASA Goddard Space Flight Center,2018/04/24 12:51:52+00,USA,204\r\n",
      "21.2000007629,105.800003051800005,1993/01/01 00:00:00+00,2019/01/01 00:00:00+00,AAR,330,Hanoi,HSSRV,STN,Viet Nam,II,Hydrometeorological Service of S.R. Vietnam,2019/01/08 17:35:40+00,VNM,25\r\n",
      "3.0999999046,101.650001525899995,1992/10/19 00:00:00+00,2018/11/01 00:00:00+00,PJM,322,Petaling Jaya,MMS,STN,Malaysia,V,Malaysian Meteorological Service,2018/04/26 13:30:37+00,MYS,46\r\n",
      "-89.996948242200006,-24.7999992371,1990/10/17 00:03:33+00,2010/04/01 00:01:20+00,SPO,111,South Pole,NSF,STN,Antarctica,the Antarctic,National Science Foundation - USA,2018/05/04 13:55:18+00,ATA,2841\r\n",
      "25.020000457799998,121.480003356899999,1965/07/01 00:00:00+00,2019/02/01 00:00:00+00,CWB,095,Taipei,CWBT,STN,\"Taiwan, Province of China\",II,Central Weather Bureau of Taiwan,2018/10/18 12:02:45+00,TWN,5\r\n",
      "-64.240058898900003,-56.624778747599997,1988/11/24 10:00:00+00,2019/01/03 11:18:00+00,MBI,233,Marambio,FMI-SMNA,STN,Antarctica,the Antarctic,Finnish Meteorological Institute - National Meteorological Service of Argentina,2018/12/03 17:46:36+00,ATA,198\r\n",
      "43.9166679382,5.75,1957/10/20 00:00:00+00,2018/06/01 00:00:00+00,OHP,040,Haute Provence,NOAA-CMDL,STN,France,VI,NOAA - Climate Monitoring and Diagnostics Laboratory,2018/05/30 12:57:07+00,FRA,580\r\n",
      "52.099998474099998,5.1833333969,1992/11/26 11:17:00+00,2018/12/31 00:00:00+00,DBT,316,De Bilt,KNMI,STN,Netherlands,VI,National  Meteorological Institute of the Netherlands,2018/05/22 14:02:56+00,NLD,2\r\n",
      "-21.0796,55.3841,1998/01/06 09:41:00+00,2017/12/18 11:38:00+00,RUN,436,La Réunion,U_LaReunion,STN,France,III,Université de La Réunion,2018/05/31 17:47:15+00,FRA,2160\r\n",
      "46.8699989319,-68.010002136200001,1958/04/24 00:00:00+00,2018/07/01 00:00:00+00,CBM,020,Caribou (ME),NOAA-CMDL,STN,United States,IV,NOAA - Climate Monitoring and Diagnostics Laboratory,2017/10/16 18:01:48+00,USA,191\r\n",
      "-89.996948242200006,-24.7999992371,1961/11/17 00:00:00+00,2018/07/01 00:00:00+00,SPO,111,South Pole,NOAA-CMDL,STN,Antarctica,the Antarctic,NOAA - Climate Monitoring and Diagnostics Laboratory,2018/05/04 13:55:18+00,ATA,2841\r\n",
      "82.499145507799994,-62.341526031500003,1957/07/04 00:00:00+00,2018/06/27 23:15:00+00,ALT,018,Alert,MSC,STN,Canada,IV,Meteorological Service of Canada (Atmospheric Environment Service),2018/06/05 15:27:14+00,CAN,210\r\n",
      "37.939998626700003,-75.459999084499998,1967/06/23 00:00:00+00,2018/07/02 00:00:00+00,WAI,107,Wallops Island (VA),NOAA-CMDL,STN,United States,IV,NOAA - Climate Monitoring and Diagnostics Laboratory,2018/05/04 13:51:05+00,USA,13\r\n",
      "-89.996948242200006,-24.7999992371,2010/09/15 11:16:08+00,2014/03/31 00:01:09+00,SPO,111,South Pole,NOAA-ESRL-GMD,STN,Antarctica,the Antarctic,NOAA-Earth System Research Laboratory-Global Monitoring Division,2018/05/04 13:55:18+00,ATA,2841\r\n",
      "43.783332824699997,-79.466667175300003,2001/01/01 00:00:00+00,2006/09/28 00:00:00+00,TOT,065,Toronto,USDA_CSU,STN,Canada,IV,US Department of Agriculture - Colorado State University,2018/06/05 14:04:31+00,CAN,198\r\n",
      "31.5499992371,130.55000305179999,1958/02/27 00:00:00+00,2005/03/31 06:00:54+00,KAG,007,Kagoshima,JMA,STN,Japan,II,Japan Meteorological Agency,2018/05/04 13:55:18+00,JPN,31\r\n",
      "67.363800048800002,26.630399704,1990/02/11 00:00:00+00,2018/12/01 00:00:00+00,SDK,262,Sodankylä,CNRS,STN,Finland,VI,National Centre for Scientific Research - France,2019/01/21 16:51:26+00,FIN,180\r\n",
      "39.991001129200001,-105.261001586899994,1963/08/21 00:00:00+00,2018/07/01 00:00:00+00,BLD,067,Boulder ESRL HQ (CO),NOAA-CMDL,STN,United States,IV,NOAA - Climate Monitoring and Diagnostics Laboratory,2018/08/27 16:34:04+00,USA,1634\r\n",
      "60.13333511350001,-1.1833332777,2000/07/01 00:00:00+00,2012/09/01 00:00:00+00,SIS,043,Lerwick,UK-NETCEN,STN,United Kingdom,VI,UK National Environmental Technology Centre,,GBR,84\r\n",
      "43.783332824699997,-79.466667175300003,1959/12/17 00:00:00+00,2015/12/10 07:17:44+00,TOT,065,Toronto,MSC,STN,Canada,IV,Meteorological Service of Canada (Atmospheric Environment Service),2018/06/05 14:06:20+00,CAN,198\r\n",
      "1.3166667223,103.866668701199998,1979/02/01 00:00:00+00,2015/12/17 23:50:04+00,SIN,214,Singapore,MSS,STN,Singapore,V,Meteorological Service Singapore,,SGP,14\r\n",
      "-2.7599999905,-171.69999694820001,1965/02/16 00:00:00+00,1965/12/28 23:00:00+00,CTI,108,Canton Island,NOAA-CMDL,STN,United States,IV,NOAA - Climate Monitoring and Diagnostics Laboratory,,USA,3\r\n",
      "-45.037998199500002,169.684005737299998,2001/11/22 00:00:00+00,2006/09/28 00:00:00+00,LAU,256,Lauder,USDA_CSU,STN,New Zealand,V,US Department of Agriculture - Colorado State University,,NZL,370\r\n",
      "24.600000381499999,72.716667175300003,1951/10/21 00:00:00+00,1982/04/01 00:00:00+00,MAB,009,Mount Abu,PRLI,STN,India,II,Physical Research Laboratory of India,,IND,1220\r\n",
      "42.450000762899997,-71.269996643100001,1963/10/07 00:00:00+00,1971/03/23 15:00:00+00,BED,104,Bedford (LA),NOAA-CMDL,STN,United States,IV,NOAA - Climate Monitoring and Diagnostics Laboratory,,USA,80\r\n",
      "47.801498413099999,11.009619712799999,1966/11/02 10:00:00+00,2019/02/04 00:00:00+00,HPB,099,Hohenpeissenberg,DWD-MOHp,STN,Germany,VI,German Weather Service - Meteorological Observatory at Hohenpeissenberg,2018/05/18 19:56:35+00,DEU,985\r\n",
      "-45.037998199500002,169.684005737299998,1987/01/29 00:00:00+00,2012/12/03 00:00:00+00,LAU,256,Lauder,NOAA-CMDL,STN,New Zealand,V,NOAA - Climate Monitoring and Diagnostics Laboratory,,NZL,370\r\n",
      "60.13333511350001,-1.1833332777,2012/10/01 00:00:00+00,2014/11/01 00:00:00+00,SIS,043,Lerwick,UK-Ricardo-AEA,STN,United Kingdom,VI,UK-Ricardo-AEA,,GBR,84\r\n",
      "-69.0,39.583332061800007,1961/03/23 00:00:00+00,2018/09/30 14:30:00+00,SYO,101,Syowa,JMA,STN,Japan,II,Japan Meteorological Agency,2018/10/01 16:11:36+00,JPN,21\r\n",
      "-45.037998199500002,169.684005737299998,1986/08/02 21:23:00+00,2018/12/23 21:04:54+00,LAU,256,Lauder,NIWA-LAU,STN,New Zealand,V,National Institute of Water and Atmospheric Research of New Zealand at Lauder,,NZL,370\r\n",
      "40.450000762899997,-3.7200000286,1991/05/26 00:00:00+00,2019/03/28 10:58:00+00,MAD,308,Madrid,AEMET,STN,Spain,VI,National Institute of Meteorology of Spain,2018/09/24 16:51:39+00,ESP,680\r\n",
      "39.991001129200001,-105.261001586899994,1997/01/01 07:57:44+00,2003/02/12 07:17:29+00,BLD,067,Boulder ESRL HQ (CO),EPA_UGA,STN,United States,IV,US Environmental Protection Agency and the University of Georgia at Athens,2018/05/04 13:55:18+00,USA,1634\r\n",
      "36.049999237100003,140.133331298799988,1957/06/26 00:00:00+00,2018/09/30 06:00:06+00,TKB,014,Tateno (Tsukuba),JMA,STN,Japan,II,Japan Meteorological Agency,2018/05/04 13:55:18+00,JPN,31\r\n",
      "78.92357635499999,11.9236602783,1990/10/31 14:00:00+00,2013/07/17 11:07:00+00,NYA,089,Ny Ålesund,AWI-NA,STN,Norway,VI,Alfred Wegener Institute - Ny Alesund,,NOR,0\r\n",
      "39.25,9.050000190700001,1954/10/01 00:00:00+00,1989/05/01 00:00:00+00,CAE,038,Cagliari/Elmas,AM-IMS,STN,Italy,VI,Meteorological Service of the Italian Military Airforce,,ITA,4\r\n",
      "18.5333328247,73.849998474100005,1966/02/10 17:00:00+00,2011/11/02 06:20:00+00,PNA,187,Pune,IMD,STN,India,II,India Meteorological Department,,IND,559\r\n",
      "60.819999694799996,23.5,1995/01/12 14:10:59+00,2001/05/01 00:00:00+00,JOK,404,Jokioinen,FMI,STN,Finland,VI,Finnish Meteorological Institute,,FIN,106\r\n",
      "-66.550003051800005,93.0,1960/02/07 00:00:00+00,1991/12/11 00:00:00+00,MIR,088,Mirny,MGO,STN,Antarctica,the Antarctic,Main Geophysical Observatory of  Russia,,ATA,30\r\n",
      "43.783332824699997,-79.466667175300003,1991/03/14 00:44:00+00,1997/12/16 02:28:00+00,TOT,065,Toronto,CRESTech,STN,Canada,IV,Centre for Research in Earth and Space Technology,,CAN,198\r\n",
      "43.9166679382,5.75,2015/05/07 00:00:00+00,2015/12/01 00:00:00+00,OHP,040,Haute Provence,JMA,STN,Japan,II,Japan Meteorological Agency,,JPN,580\r\n",
      "-38.029998779300001,145.100006103499993,1957/07/01 00:00:00+00,1982/12/01 00:00:00+00,APL,026,Aspendale,ABM,STN,Australia,V,Australian Bureau of Meteorology,,AUS,1\r\n",
      "-70.769996643100001,11.8699998856,1985/05/22 00:00:00+00,1991/02/25 00:00:00+00,NLZ,280,Novolazarevskaya-Forster,MGO,STN,Antarctica,the Antarctic,Main Geophysical Observatory of  Russia,,ATA,110\r\n",
      "67.363800048800002,26.630399704,1988/03/14 13:37:59+00,2010/05/01 00:00:00+00,SDK,262,Sodankylä,FMI,STN,Finland,VI,Finnish Meteorological Institute,,FIN,180\r\n",
      "32.479999542199998,51.430000305199997,1995/07/31 11:26:00+00,2011/04/25 12:04:00+00,EFH,336,Esfahan,MDI,STN,\"Iran, Islamic Republic of\",II,Meteorological Department of Iran,,IRN,1550\r\n",
      "-72.319999694800003,170.220001220700027,1961/01/01 00:00:00+00,1963/11/16 11:00:00+00,HAL,069,Hallett,NOAA-CMDL,STN,Antarctica,the Antarctic,NOAA - Climate Monitoring and Diagnostics Laboratory,,ATA,5\r\n",
      "42.816665649400001,23.383329391499998,1964/04/09 00:00:00+00,2001/12/01 00:00:00+00,SOF,132,Sofia,BNIHM,STN,Bulgaria,VI,Bulgarian National Institute of Hydrology and Meteorology,,BGR,588\r\n",
      "-70.459999084499998,11.449999809300001,1994/01/08 22:00:00+00,2011/11/08 09:09:00+00,MTR,400,Maitri,IMD,STN,Antarctica,the Antarctic,India Meteorological Department,,ATA,330\r\n",
      "44.378101348900003,-1.2310999632,1976/03/16 00:00:00+00,1983/01/19 13:00:00+00,BIS,197,Biscarrosse / SMS,CNRS,STN,France,VI,National Centre for Scientific Research - France,,FRA,167\r\n",
      "43.9166679382,5.75,1995/12/03 20:24:00+00,1997/04/03 15:45:00+00,OHP,040,Haute Provence,IPSL,STN,France,VI,Institut Pierre Simon Laplace (France),,FRA,580\r\n",
      "71.323013305700002,-156.611465454099999,1991/01/23 22:01:06+00,2014/11/28 22:01:08+00,BRW,199,Barrow (AK),NSF,STN,United States,IV,National Science Foundation - USA,,USA,11\r\n",
      "39.950000762899997,32.882999420200001,1994/01/13 12:00:00+00,2015/12/01 00:00:00+00,TRA,348,Ankara,TSMS,STN,Turkey,VI,Turkish State Meteorological Service,,TUR,896\r\n",
      "78.92357635499999,11.9236602783,1966/11/28 00:00:00+00,1997/04/01 00:00:00+00,NYA,089,Ny Ålesund,U_Oslo,STN,Norway,VI,University of Oslo,,NOR,0\r\n",
      "78.92357635499999,11.9236602783,2007/05/19 00:00:00+00,2009/12/02 00:00:00+00,NYA,089,Ny Ålesund,CNR,STN,Norway,VI,Italian National Centre for Research,,NOR,0\r\n",
      "-64.240058898900003,-56.624778747599997,2010/02/14 00:00:00+00,2019/02/01 00:00:00+00,MBI,233,Marambio,IAA-CHMI,STN,Antarctica,the Antarctic,Instituto Antarctico Argentino - Czech Hydrometeorological Institute,,ATA,198\r\n",
      "32.479999542199998,51.430000305199997,1998/01/01 00:00:00+00,2000/07/01 00:00:00+00,EFH,336,Esfahan,IGUT,STN,\"Iran, Islamic Republic of\",II,Institute of Geophysics - University of Tehran,,IRN,1550\r\n",
      "65.116668701199998,-147.483306884799987,1979/07/16 09:00:00+00,1992/05/01 00:00:00+00,POK,217,Poker Flat (AK),NOAA-CMDL,STN,United States,IV,NOAA - Climate Monitoring and Diagnostics Laboratory,,USA,204\r\n",
      "38.979999542199998,-77.480003356899999,1957/07/01 00:00:00+00,1967/06/01 00:00:00+00,SVA,064,Sterling/Washington (VA),NOAA-CMDL,STN,United States,IV,NOAA - Climate Monitoring and Diagnostics Laboratory,,USA,84\r\n",
      "65.116668701199998,-147.483306884799987,2001/03/05 00:00:00+00,2006/09/28 00:00:00+00,POK,217,Poker Flat (AK),USDA_CSU,STN,United States,IV,US Department of Agriculture - Colorado State University,,USA,204\r\n"
     ]
    }
   ],
   "source": [
    "output = csv.DictWriter(sys.stdout, fieldnames=rows.fieldnames)\n",
    "output.writeheader()\n",
    "for row in rows:\n",
    "    if row['gaw_id'] in station_lookups:\n",
    "        output.writerow(row)"
   ]
  }
 ],
 "metadata": {
  "kernelspec": {
   "display_name": "Python 3",
   "language": "python",
   "name": "python3"
  },
  "language_info": {
   "codemirror_mode": {
    "name": "ipython",
    "version": 3
   },
   "file_extension": ".py",
   "mimetype": "text/x-python",
   "name": "python",
   "nbconvert_exporter": "python",
   "pygments_lexer": "ipython3",
   "version": "3.6.5"
  }
 },
 "nbformat": 4,
 "nbformat_minor": 2
}
