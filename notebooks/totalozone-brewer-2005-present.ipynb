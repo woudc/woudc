{
 "cells": [
  {
   "cell_type": "code",
   "execution_count": 4,
   "metadata": {
    "collapsed": false
   },
   "outputs": [],
   "source": [
    "%matplotlib inline"
   ]
  },
  {
   "cell_type": "code",
   "execution_count": 6,
   "metadata": {
    "collapsed": false
   },
   "outputs": [
    {
     "data": {
      "text/plain": [
       "153770"
      ]
     },
     "execution_count": 6,
     "metadata": {},
     "output_type": "execute_result"
    }
   ],
   "source": [
    "import datetime\n",
    "import matplotlib.pyplot as plt\n",
    "from pywoudc import WoudcClient\n",
    "\n",
    "# connect to WOUDC data service\n",
    "client = WoudcClient()\n",
    "\n",
    "# get Brewer data from 2005 to present\n",
    "begin = datetime.date(2005, 1, 1)\n",
    "end = datetime.date.today()\n",
    "\n",
    "data = client.get_data('totalozone',\n",
    "                       filters={'instrument_name': 'brewer'},\n",
    "                       temporal=[begin, end])\n",
    "\n",
    "len(data['features'])"
   ]
  },
  {
   "cell_type": "code",
   "execution_count": 12,
   "metadata": {
    "collapsed": false
   },
   "outputs": [
    {
     "data": {
      "text/plain": [
       "list"
      ]
     },
     "execution_count": 12,
     "metadata": {},
     "output_type": "execute_result"
    }
   ],
   "source": [
    "type(data['features'])"
   ]
  },
  {
   "cell_type": "code",
   "execution_count": 8,
   "metadata": {
    "collapsed": false
   },
   "outputs": [
    {
     "data": {
      "text/plain": [
       "{u'geometry': {u'coordinates': [15.833, 50.183], u'type': u'Point'},\n",
       " u'properties': {u'agency': u'CHMI-HK',\n",
       "  u'daily_columno3': u'298.8',\n",
       "  u'daily_columnso2': u'',\n",
       "  u'daily_date': u'2005-01-02',\n",
       "  u'daily_mmu': u'3.407',\n",
       "  u'daily_nobs': u'',\n",
       "  u'daily_obscode': u'ZS',\n",
       "  u'daily_stddevo3': u'0.7',\n",
       "  u'daily_utc_begin': u'10.17',\n",
       "  u'daily_utc_end': u'11.25',\n",
       "  u'daily_utc_mean': u'10.48',\n",
       "  u'daily_wlcode': u'9',\n",
       "  u'data_payload_id': 237410,\n",
       "  u'gaw_id': u'HKR',\n",
       "  u'instance_datetime': u'2005/01/01 00:00:00+00',\n",
       "  u'instrument_model': u'MKIV',\n",
       "  u'instrument_name': u'brewer',\n",
       "  u'instrument_number': u'098',\n",
       "  u'latest_observation': 0,\n",
       "  u'monthly_columno3': u'339.4',\n",
       "  u'monthly_date': u'2005-01-01',\n",
       "  u'monthly_npts': u'29',\n",
       "  u'monthly_stddevo3': u'58.4',\n",
       "  u'platform_id': u'096',\n",
       "  u'platform_name': u'Hradec Kralove',\n",
       "  u'platform_type': u'STN',\n",
       "  u'url': u'https://woudc.org/archive/Archive-NewFormat/TotalOzone_1.0_1/stn096/brewer/2005/20050101.brewer.mkiv.098.chmi-hk.csv'},\n",
       " u'type': u'Feature'}"
      ]
     },
     "execution_count": 8,
     "metadata": {},
     "output_type": "execute_result"
    }
   ],
   "source": [
    "data['features'][0]"
   ]
  },
  {
   "cell_type": "code",
   "execution_count": 14,
   "metadata": {
    "collapsed": true
   },
   "outputs": [],
   "source": [
    "property_to_graph = 'daily_stddevo3'"
   ]
  },
  {
   "cell_type": "code",
   "execution_count": 15,
   "metadata": {
    "collapsed": false
   },
   "outputs": [
    {
     "data": {
      "text/plain": [
       "[<matplotlib.lines.Line2D at 0x88da6e4c>]"
      ]
     },
     "execution_count": 15,
     "metadata": {},
     "output_type": "execute_result"
    },
    {
     "data": {
      "image/png": "[encoded data removed]",
      "text/plain": [
       "<matplotlib.figure.Figure at 0x8d4280ac>"
      ]
     },
     "metadata": {},
     "output_type": "display_data"
    }
   ],
   "source": [
    "# setup graph axes\n",
    "x_axis = [datetime.datetime.strptime(x['properties']['instance_datetime'], '%Y/%m/%d %H:%M:%S+00') for x in data['features'] if x['properties'][property_to_graph]]\n",
    "y_axis = [x['properties'][property_to_graph] for x in data['features'] if x['properties'][property_to_graph]]\n",
    "\n",
    "# render simple plot\n",
    "plt.plot(x_axis, y_axis)"
   ]
  },
  {
   "cell_type": "code",
   "execution_count": null,
   "metadata": {
    "collapsed": true
   },
   "outputs": [],
   "source": []
  }
 ],
 "metadata": {
  "kernelspec": {
   "display_name": "Python 2",
   "language": "python",
   "name": "python2"
  },
  "language_info": {
   "codemirror_mode": {
    "name": "ipython",
    "version": 2
   },
   "file_extension": ".py",
   "mimetype": "text/x-python",
   "name": "python",
   "nbconvert_exporter": "python",
   "pygments_lexer": "ipython2",
   "version": "2.7.8"
  }
 },
 "nbformat": 4,
 "nbformat_minor": 0
}
