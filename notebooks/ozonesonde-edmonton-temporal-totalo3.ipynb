{
 "cells": [
  {
   "cell_type": "code",
   "execution_count": 1,
   "metadata": {
    "collapsed": false
   },
   "outputs": [
    {
     "name": "stderr",
     "output_type": "stream",
     "text": [
      "/home/tkralidi/woudc-github-woudc/local/lib/python2.7/site-packages/matplotlib/font_manager.py:273: UserWarning: Matplotlib is building the font cache using fc-list. This may take a moment.\n",
      "  warnings.warn('Matplotlib is building the font cache using fc-list. This may take a moment.')\n"
     ]
    }
   ],
   "source": [
    "%matplotlib inline"
   ]
  },
  {
   "cell_type": "code",
   "execution_count": 2,
   "metadata": {
    "collapsed": false
   },
   "outputs": [
    {
     "data": {
      "text/plain": [
       "1546"
      ]
     },
     "execution_count": 2,
     "metadata": {},
     "output_type": "execute_result"
    }
   ],
   "source": [
    "import datetime\n",
    "import matplotlib.pyplot as plt\n",
    "from pywoudc import WoudcClient\n",
    "\n",
    "# connect to WOUDC data service\n",
    "client = WoudcClient()\n",
    "\n",
    "# get Edmonton sonde data from 1980 to present\n",
    "gaw_id = 'EDT'\n",
    "begin = datetime.date(1980, 1, 1)\n",
    "end = datetime.date.today()\n",
    "\n",
    "data = client.get_data('ozonesonde',\n",
    "                       filters={'gaw_id': gaw_id},\n",
    "                       temporal=[begin, end])\n",
    "\n",
    "len(data['features'])"
   ]
  },
  {
   "cell_type": "code",
   "execution_count": 3,
   "metadata": {
    "collapsed": false
   },
   "outputs": [
    {
     "data": {
      "text/plain": [
       "list"
      ]
     },
     "execution_count": 3,
     "metadata": {},
     "output_type": "execute_result"
    }
   ],
   "source": [
    "type(data['features'])"
   ]
  },
  {
   "cell_type": "code",
   "execution_count": 4,
   "metadata": {
    "collapsed": false
   },
   "outputs": [
    {
     "data": {
      "text/plain": [
       "{u'geometry': {u'coordinates': [-114.1, 53.55], u'type': u'Point'},\n",
       " u'properties': {u'agency': u'MSC',\n",
       "  u'data_block': u'Pressure,O3PartialPressure,Temperature,WindSpeed,WindDirection,LevelCode,Duration,GPHeight,RelativeHumidity,SampleTemperature\\r\\n931,1.4,-19,11,340,,,,,\\r\\n870,1.5,-24,11,348,,,,,\\r\\n700,1.9,-19,8,155,,,,,\\r\\n500,2.0,-39,7,146,,,,,\\r\\n476,1.9,-42,10,166,,,,,\\r\\n369,3.6,-48,22,243,,,,,\\r\\n300,7.1,-49,29,251,,,,,\\r\\n262,7.8,-50,29,261,,,,,\\r\\n236,10.3,-49,27,266,,,,,\\r\\n220,9.0,-49,25,269,,,,,\\r\\n204,13.6,-50,23,271,,,,,\\r\\n200,14.1,-50,22,272,,,,,\\r\\n191,15.0,-50,23,273,,,,,\\r\\n178,11.2,-51,24,276,,,,,\\r\\n165,13.9,-52,25,278,,,,,\\r\\n151,19.4,-52,26,281,,,,,\\r\\n150,19.2,-52,26,281,,,,,\\r\\n143,17.4,-52,26,283,,,,,\\r\\n138,22.9,-51,26,284,,,,,\\r\\n133,22.6,-51,26,286,,,,,\\r\\n129,19.9,-51,26,287,,,,,\\r\\n122,19.7,-51,25,290,,,,,\\r\\n114,16.4,-52,25,293,,,,,\\r\\n100,20.0,-50,25,298,,,,,\\r\\n91,21.1,-50,24,298,,,,,\\r\\n80,20.1,-51,23,298,,,,,\\r\\n76,16.5,-51,22,298,,,,,\\r\\n74,17.9,-51,22,298,,,,,\\r\\n70,16.4,-51,22,298,,,,,\\r\\n66,17.5,-52,23,300,,,,,\\r\\n61,15.3,-53,24,302,,,,,\\r\\n55,15.4,-55,26,304,,,,,\\r\\n50,16.8,-53,28,307,,,,,\\r\\n42,16.6,-52,29,309,,,,,\\r\\n37,14.5,-55,30,311,,,,,\\r\\n34,14.7,-53,30,312,,,,,\\r\\n30,13.6,-56,30,313,,,,,\\r\\n21.3,11.0,-63,,,,,,,\\r\\n',\n",
       "  u'data_payload_id': 41280,\n",
       "  u'flight_summary_correctioncode': u'',\n",
       "  u'flight_summary_correctionfactor': u'1',\n",
       "  u'flight_summary_instrument': u'',\n",
       "  u'flight_summary_integratedo3': u'341',\n",
       "  u'flight_summary_number': u'',\n",
       "  u'flight_summary_obstype': u'6',\n",
       "  u'flight_summary_sondetotalo3': u'',\n",
       "  u'flight_summary_totalo3': u'462',\n",
       "  u'flight_summary_wlcode': u'3',\n",
       "  u'gaw_id': u'EDT',\n",
       "  u'instance_datetime': u'1980/01/05 11:00:00+00',\n",
       "  u'instrument_model': u'UNKNOWN',\n",
       "  u'instrument_name': u'Ecc',\n",
       "  u'instrument_number': u'UNKNOWN',\n",
       "  u'latest_observation': 0,\n",
       "  u'platform_id': u'021',\n",
       "  u'platform_name': u'Edmonton / Stony Plain',\n",
       "  u'platform_type': u'STN',\n",
       "  u'url': u'https://woudc.org/archive/Archive-NewFormat/OzoneSonde_1.0_1/stn021/ecc/1980/19800105.ECC.na.na.MSC.csv'},\n",
       " u'type': u'Feature'}"
      ]
     },
     "execution_count": 4,
     "metadata": {},
     "output_type": "execute_result"
    }
   ],
   "source": [
    "data['features'][0]"
   ]
  },
  {
   "cell_type": "code",
   "execution_count": 6,
   "metadata": {
    "collapsed": false
   },
   "outputs": [
    {
     "data": {
      "text/plain": [
       "[<matplotlib.lines.Line2D at 0xb19a276c>]"
      ]
     },
     "execution_count": 6,
     "metadata": {},
     "output_type": "execute_result"
    },
    {
     "data": {
      "image/png": "[encoded data removed]",
      "text/plain": [
       "<matplotlib.figure.Figure at 0xb19c75cc>"
      ]
     },
     "metadata": {},
     "output_type": "display_data"
    }
   ],
   "source": [
    "# setup graph axes\n",
    "x_axis = [datetime.datetime.strptime(x['properties']['instance_datetime'], '%Y/%m/%d %H:%M:%S+00') for x in data['features'] if x['properties']['flight_summary_totalo3']]\n",
    "y_axis = [float(x['properties']['flight_summary_totalo3']) for x in data['features'] if x['properties']['flight_summary_totalo3']]\n",
    "\n",
    "# render simple plot\n",
    "plt.plot(x_axis, y_axis)"
   ]
  }
 ],
 "metadata": {
  "kernelspec": {
   "display_name": "Python 2",
   "language": "python",
   "name": "python2"
  },
  "language_info": {
   "codemirror_mode": {
    "name": "ipython",
    "version": 2
   },
   "file_extension": ".py",
   "mimetype": "text/x-python",
   "name": "python",
   "nbconvert_exporter": "python",
   "pygments_lexer": "ipython2",
   "version": "2.7.8"
  }
 },
 "nbformat": 4,
 "nbformat_minor": 0
}
